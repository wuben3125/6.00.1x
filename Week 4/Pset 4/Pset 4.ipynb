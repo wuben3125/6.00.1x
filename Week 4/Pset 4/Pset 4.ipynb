{
 "cells": [
  {
   "cell_type": "code",
   "execution_count": 8,
   "metadata": {},
   "outputs": [],
   "source": [
    "# This is for learning consolidation/notes\n",
    "\n"
   ]
  },
  {
   "cell_type": "code",
   "execution_count": null,
   "metadata": {},
   "outputs": [],
   "source": [
    "# contents:\n",
    "    # dictionary 'safe' retrieval method\n",
    "    # while loop structure for corrected inputs"
   ]
  },
  {
   "cell_type": "code",
   "execution_count": 2,
   "metadata": {},
   "outputs": [],
   "source": [
    "hand = {'a':1, 'q':1, '1':2, 'm':1, 'u':1, 'i':1}"
   ]
  },
  {
   "cell_type": "code",
   "execution_count": 3,
   "metadata": {},
   "outputs": [
    {
     "ename": "NameError",
     "evalue": "name 'd' is not defined",
     "output_type": "error",
     "traceback": [
      "\u001b[1;31m---------------------------------------------------------------------------\u001b[0m",
      "\u001b[1;31mNameError\u001b[0m                                 Traceback (most recent call last)",
      "\u001b[1;32m<ipython-input-3-c7aad89c9407>\u001b[0m in \u001b[0;36m<module>\u001b[1;34m()\u001b[0m\n\u001b[1;32m----> 1\u001b[1;33m \u001b[0mhand\u001b[0m\u001b[1;33m[\u001b[0m\u001b[0md\u001b[0m\u001b[1;33m]\u001b[0m\u001b[1;33m\u001b[0m\u001b[0m\n\u001b[0m",
      "\u001b[1;31mNameError\u001b[0m: name 'd' is not defined"
     ]
    }
   ],
   "source": [
    "hand[d]"
   ]
  },
  {
   "cell_type": "code",
   "execution_count": 4,
   "metadata": {},
   "outputs": [],
   "source": [
    "hand.get('d')"
   ]
  },
  {
   "cell_type": "code",
   "execution_count": 5,
   "metadata": {},
   "outputs": [
    {
     "data": {
      "text/plain": [
       "0"
      ]
     },
     "execution_count": 5,
     "metadata": {},
     "output_type": "execute_result"
    }
   ],
   "source": [
    "hand.get('d', 0)\n",
    "# default dictionary value"
   ]
  },
  {
   "cell_type": "code",
   "execution_count": 6,
   "metadata": {},
   "outputs": [],
   "source": []
  },
  {
   "cell_type": "code",
   "execution_count": null,
   "metadata": {},
   "outputs": [],
   "source": [
    "# # Nested loop structure\n",
    "# def playGame(wordList):\n",
    "#     \"\"\"\n",
    "#     Allow the user to play an arbitrary number of hands.\n",
    " \n",
    "#     1) Asks the user to input 'n' or 'r' or 'e'.\n",
    "#         * If the user inputs 'e', immediately exit the game.\n",
    "#         * If the user inputs anything that's not 'n', 'r', or 'e', keep asking them again.\n",
    "\n",
    "#     2) Asks the user to input a 'u' or a 'c'.\n",
    "#         * If the user inputs anything that's not 'c' or 'u', keep asking them again.\n",
    "\n",
    "#     3) Switch functionality based on the above choices:\n",
    "#         * If the user inputted 'n', play a new (random) hand.\n",
    "#         * Else, if the user inputted 'r', play the last hand again.\n",
    "      \n",
    "#         * If the user inputted 'u', let the user play the game\n",
    "#           with the selected hand, using playHand.\n",
    "#         * If the user inputted 'c', let the computer play the \n",
    "#           game with the selected hand, using compPlayHand.\n",
    "\n",
    "#     4) After the computer or user has played the hand, repeat from step 1\n",
    "\n",
    "#     wordList: list (string)\n",
    "#     \"\"\"\n",
    "#     currentHand = {}\n",
    "#     enterInnerLoop = False\n",
    "    \n",
    "#     while True:\n",
    "#         enterInnerLoop = False\n",
    "        \n",
    "#         firstInput = input(\"Enter n to deal a hand, r to replay the last hand, or e to end game: \")\n",
    "#         if firstInput == 'e':\n",
    "#             break\n",
    "#         elif firstInput not in ('n', 'r'):\n",
    "#             print(\"Invalid input, try again.\")\n",
    "#             print()\n",
    "#         elif firstInput == 'r':\n",
    "#             if not currentHand: # if currentHand is empty\n",
    "#                 print(\"You have not played a hand yet. Please play a new hand first!\")\n",
    "#         else:\n",
    "#             enterInnerLoop = True\n",
    "        \n",
    "#         while enterInnerLoop:\n",
    "#             secondInput = input(\"Enter u to play as a user, or c to let a computer play: \")\n",
    "#             if secondInput not in ('u', 'c'):\n",
    "#                 print(\"Invalid input, try again.\")\n",
    "#                 print()\n",
    "#             else: \n",
    "#                 if firstInput == 'n':\n",
    "#                     currentHand = dealHand(HAND_SIZE)\n",
    "#                     if secondInput == 'u':\n",
    "#                         playHand(currentHand, wordList, HAND_SIZE)\n",
    "#                     elif secondInput == 'c':\n",
    "#                         compPlayHand(currentHand, wordList, HAND_SIZE)\n",
    "#                 elif firstInput == 'r':\n",
    "#                     if secondInput == 'u':\n",
    "#                         playHand(currentHand, wordList, HAND_SIZE)\n",
    "#                     elif secondInput == 'c':\n",
    "#                         compPlayHand(currentHand, wordList, HAND_SIZE)\n",
    "                        \n",
    "#                 enterInnerLoop = False\n",
    "                \n",
    "            \n",
    "        \n"
   ]
  }
 ],
 "metadata": {
  "kernelspec": {
   "display_name": "Python 3",
   "language": "python",
   "name": "python3"
  },
  "language_info": {
   "codemirror_mode": {
    "name": "ipython",
    "version": 3
   },
   "file_extension": ".py",
   "mimetype": "text/x-python",
   "name": "python",
   "nbconvert_exporter": "python",
   "pygments_lexer": "ipython3",
   "version": "3.6.5"
  }
 },
 "nbformat": 4,
 "nbformat_minor": 2
}
