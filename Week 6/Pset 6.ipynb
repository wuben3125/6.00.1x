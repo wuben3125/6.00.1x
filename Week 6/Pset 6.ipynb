{
 "cells": [
  {
   "cell_type": "code",
   "execution_count": 1,
   "metadata": {},
   "outputs": [],
   "source": [
    "# There isn't an actual project, only problems. I'll include the ones I think are more interesting\n"
   ]
  },
  {
   "cell_type": "code",
   "execution_count": 2,
   "metadata": {},
   "outputs": [],
   "source": [
    "# Problem 4\n",
    "\n",
    "# Specify the order of growth of the following functions:\n",
    "\n",
    "def modten(n):\n",
    "    return n%10\n",
    "# O(1)\n",
    "    \n",
    "def multlist(m, n):\n",
    "    '''m is the multiplication factor\n",
    "    n is a list'''\n",
    "    result = []\n",
    "    for i in range(len(n)):\n",
    "        result.append(m*n[i])\n",
    "    return result\n",
    "# O(len(n))\n",
    "\n",
    "def foo(n):\n",
    "    if n <= 1:\n",
    "        return 1\n",
    "    return foo(n/2) + 1\n",
    "# O(logn)\n",
    "\n",
    "def recur(n):\n",
    "    if n <= 0:\n",
    "        return 1\n",
    "    else:\n",
    "        return n*recur(n-1)\n",
    "# O(n)  \n",
    "    \n",
    "def baz(n):\n",
    "    for i in range(n):\n",
    "        for j in range(n):\n",
    "            print( i,j )\n",
    "# O(n^2)"
   ]
  },
  {
   "cell_type": "code",
   "execution_count": 3,
   "metadata": {},
   "outputs": [],
   "source": [
    "# Problem 5\n",
    "def search(L, e):\n",
    "    for i in range(len(L)):\n",
    "        if L[i] == e:\n",
    "            return True\n",
    "        if L[i] > e:\n",
    "            return False\n",
    "    return False\n",
    "\n",
    "def newsearch(L, e):\n",
    "    size = len(L)\n",
    "    for i in range(size):\n",
    "        if L[size-i-1] == e:\n",
    "            return True\n",
    "        if L[i] < e:\n",
    "        # should be \n",
    "        # if L[size - i -1] < e:\n",
    "            return False\n",
    "    return False"
   ]
  },
  {
   "cell_type": "code",
   "execution_count": 6,
   "metadata": {},
   "outputs": [
    {
     "name": "stdout",
     "output_type": "stream",
     "text": [
      "True\n",
      "False\n"
     ]
    }
   ],
   "source": [
    "a = [1,2,3,4,5,6]\n",
    "print(search(a, 3))\n",
    "print(newsearch(a, 3))"
   ]
  },
  {
   "cell_type": "code",
   "execution_count": 7,
   "metadata": {},
   "outputs": [],
   "source": [
    "# Problem 6\n",
    "def swapSort(L): \n",
    "    \"\"\" L is a list on integers \"\"\"\n",
    "    print(\"Original L: \", L)\n",
    "    for i in range(len(L)):\n",
    "        for j in range(i+1, len(L)):\n",
    "            if L[j] < L[i]:\n",
    "                # the next line is a short \n",
    "                # form for swap L[i] and L[j]\n",
    "                L[j], L[i] = L[i], L[j] \n",
    "                print(L)\n",
    "    print(\"Final L: \", L)\n",
    "    \n",
    "    # appears to be a normal sleection sort\n",
    "    "
   ]
  },
  {
   "cell_type": "code",
   "execution_count": 8,
   "metadata": {},
   "outputs": [
    {
     "name": "stdout",
     "output_type": "stream",
     "text": [
      "Original L:  [1, 6, 2, 7, 4, 88, 2]\n",
      "[1, 2, 6, 7, 4, 88, 2]\n",
      "[1, 2, 4, 7, 6, 88, 2]\n",
      "[1, 2, 2, 7, 6, 88, 4]\n",
      "[1, 2, 2, 6, 7, 88, 4]\n",
      "[1, 2, 2, 4, 7, 88, 6]\n",
      "[1, 2, 2, 4, 6, 88, 7]\n",
      "[1, 2, 2, 4, 6, 7, 88]\n",
      "Final L:  [1, 2, 2, 4, 6, 7, 88]\n"
     ]
    }
   ],
   "source": [
    "aList = [1,6,2,7,4,88,2]\n",
    "swapSort(aList)"
   ]
  },
  {
   "cell_type": "code",
   "execution_count": 9,
   "metadata": {},
   "outputs": [],
   "source": [
    "def swapSort2(L): \n",
    "    \"\"\" L is a list on integers \"\"\"\n",
    "    print(\"Original L: \", L)\n",
    "    for i in range(len(L)):\n",
    "        for j in range(i, len(L)): # the only change is that this has an unnecessary step\n",
    "            if L[j] < L[i]:\n",
    "                # the next line is a short \n",
    "                # form for swap L[i] and L[j]\n",
    "                L[j], L[i] = L[i], L[j] \n",
    "                print(L)\n",
    "    print(\"Final L: \", L)\n",
    "    \n",
    "    # appears to be a normal sleection sort"
   ]
  },
  {
   "cell_type": "code",
   "execution_count": 12,
   "metadata": {},
   "outputs": [
    {
     "name": "stdout",
     "output_type": "stream",
     "text": [
      "Original L:  [1, 6, 2, 7, 4, 88, 2]\n",
      "[1, 2, 6, 7, 4, 88, 2]\n",
      "[1, 2, 4, 7, 6, 88, 2]\n",
      "[1, 2, 2, 7, 6, 88, 4]\n",
      "[1, 2, 2, 6, 7, 88, 4]\n",
      "[1, 2, 2, 4, 7, 88, 6]\n",
      "[1, 2, 2, 4, 6, 88, 7]\n",
      "[1, 2, 2, 4, 6, 7, 88]\n",
      "Final L:  [1, 2, 2, 4, 6, 7, 88]\n"
     ]
    }
   ],
   "source": [
    "aList = [1,6,2,7,4,88,2]\n",
    "swapSort2(aList)"
   ]
  },
  {
   "cell_type": "code",
   "execution_count": null,
   "metadata": {},
   "outputs": [],
   "source": []
  }
 ],
 "metadata": {
  "kernelspec": {
   "display_name": "Python 3",
   "language": "python",
   "name": "python3"
  },
  "language_info": {
   "codemirror_mode": {
    "name": "ipython",
    "version": 3
   },
   "file_extension": ".py",
   "mimetype": "text/x-python",
   "name": "python",
   "nbconvert_exporter": "python",
   "pygments_lexer": "ipython3",
   "version": "3.6.5"
  }
 },
 "nbformat": 4,
 "nbformat_minor": 2
}
