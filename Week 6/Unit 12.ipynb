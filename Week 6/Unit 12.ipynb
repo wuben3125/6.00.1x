{
 "cells": [
  {
   "cell_type": "code",
   "execution_count": 1,
   "metadata": {},
   "outputs": [],
   "source": [
    "# Unit 12 - Searching and Sorting algorithms"
   ]
  },
  {
   "cell_type": "code",
   "execution_count": 2,
   "metadata": {},
   "outputs": [],
   "source": [
    "# Content\n",
    "    # Linear search\n",
    "    # bisection search\n",
    "    # indirection (chasing indices)\n",
    "    # bogo sort\n",
    "    # bubble sort\n",
    "    # selection sort\n",
    "    # merge sort - O(nlogn)"
   ]
  },
  {
   "cell_type": "code",
   "execution_count": 3,
   "metadata": {},
   "outputs": [],
   "source": [
    "# Uncertainties:\n",
    "    # random.shuffle()\n",
    "    # reading and understanding algorithms\n",
    "    # print(thing, end = '\\r') \n",
    "    # return L[:] vs return L\n",
    "    # // vs int(len(L)/2)"
   ]
  },
  {
   "cell_type": "code",
   "execution_count": null,
   "metadata": {},
   "outputs": [],
   "source": []
  },
  {
   "cell_type": "code",
   "execution_count": 4,
   "metadata": {},
   "outputs": [],
   "source": [
    "# Linear search on sorted list\n",
    "def search(L, e):\n",
    "    for i in range(len(L)):\n",
    "        if L[i] == e:\n",
    "            return True\n",
    "        if L[i] > e:\n",
    "            return False\n",
    "    return False\n",
    "# still O(n) complexity"
   ]
  },
  {
   "cell_type": "code",
   "execution_count": 11,
   "metadata": {},
   "outputs": [],
   "source": [
    "# Bisection search on sorted list\n",
    "def bisect_search1(L, e):\n",
    "    if L == []:\n",
    "        return False\n",
    "    elif len(L) == 1:\n",
    "        return L[0] == e\n",
    "    else:\n",
    "        half = len(L)//2\n",
    "        if L[half] > e:\n",
    "            return bisect_search1( L[:half], e)\n",
    "        else:\n",
    "            return bisect_search1( L[half:], e)\n",
    "        \n",
    "def bisect_search2(L, e):\n",
    "    '''\n",
    "    returns the list instead of making copies; is more efficient than bisect_search1\n",
    "    '''\n",
    "    def bisect_search_helper(L, e, low, high):\n",
    "        if high == low:\n",
    "            return L[low] == e\n",
    "        mid = (low + high)//2\n",
    "        if L[mid] == e:\n",
    "            return True\n",
    "        elif L[mid] > e:\n",
    "            if low == mid:\n",
    "                return False\n",
    "            else:\n",
    "                return bisect_search_helper(L, e, low, mid - 1)\n",
    "        else:\n",
    "            return bisect_search_helper(L, e, mid + 1, high)\n",
    "    if len(L) == 0:\n",
    "        return False\n",
    "    else:\n",
    "        return bisect_search_helper(L, e, 0, len(L)-1)"
   ]
  },
  {
   "cell_type": "code",
   "execution_count": 9,
   "metadata": {},
   "outputs": [
    {
     "data": {
      "text/plain": [
       "True"
      ]
     },
     "execution_count": 9,
     "metadata": {},
     "output_type": "execute_result"
    }
   ],
   "source": [
    "aList = [1,2,3,4,5,6,7,8,9]\n",
    "bisect_search1(aList, 2)"
   ]
  },
  {
   "cell_type": "code",
   "execution_count": 10,
   "metadata": {},
   "outputs": [
    {
     "data": {
      "text/plain": [
       "False"
      ]
     },
     "execution_count": 10,
     "metadata": {},
     "output_type": "execute_result"
    }
   ],
   "source": [
    "bisect_search1(aList, 10)"
   ]
  },
  {
   "cell_type": "code",
   "execution_count": 12,
   "metadata": {},
   "outputs": [
    {
     "data": {
      "text/plain": [
       "True"
      ]
     },
     "execution_count": 12,
     "metadata": {},
     "output_type": "execute_result"
    }
   ],
   "source": [
    "bisect_search2(aList, 2)"
   ]
  },
  {
   "cell_type": "code",
   "execution_count": 13,
   "metadata": {},
   "outputs": [
    {
     "data": {
      "text/plain": [
       "False"
      ]
     },
     "execution_count": 13,
     "metadata": {},
     "output_type": "execute_result"
    }
   ],
   "source": [
    "bisect_search2(aList, 100)"
   ]
  },
  {
   "cell_type": "code",
   "execution_count": 14,
   "metadata": {},
   "outputs": [],
   "source": [
    "# indirection\n",
    "num = 1\n",
    "L = [5, 0, 2, 4, 6, 3, 1]\n",
    "val = 0\n",
    "for i in range(0, num):\n",
    "    val = L[L[val]]"
   ]
  },
  {
   "cell_type": "code",
   "execution_count": null,
   "metadata": {},
   "outputs": [],
   "source": [
    "# types of sort methods:\n",
    "    # bogo sort\n",
    "    # bubble sort\n",
    "    # selection sort\n",
    "    # merge sort"
   ]
  },
  {
   "cell_type": "code",
   "execution_count": 57,
   "metadata": {},
   "outputs": [],
   "source": [
    "# random sort\n",
    "\n",
    "import random \n",
    "def bogo_sort(L):\n",
    "    while not (L == sorted(L)):\n",
    "        random.shuffle(L)\n",
    "    \n",
    "# O(n!)"
   ]
  },
  {
   "cell_type": "code",
   "execution_count": 59,
   "metadata": {},
   "outputs": [
    {
     "name": "stdout",
     "output_type": "stream",
     "text": [
      "[1, 2, 3, 4]\n"
     ]
    }
   ],
   "source": [
    "aList = [3,2,1,4]\n",
    "bogo_sort(aList)\n",
    "print(aList)"
   ]
  },
  {
   "cell_type": "code",
   "execution_count": 56,
   "metadata": {},
   "outputs": [],
   "source": [
    "# bubble sort\n",
    "def bubble_sort(L):\n",
    "    swap = False\n",
    "    while not swap:\n",
    "        swap = True\n",
    "        for j in range(1, len(L)):\n",
    "            if L[j-1] > L[j]:\n",
    "                swap = False\n",
    "                temp = L[j]\n",
    "                L[j] = L[j-1]\n",
    "                L[j-1] = temp\n",
    "                \n",
    "# O(n^2)"
   ]
  },
  {
   "cell_type": "code",
   "execution_count": 60,
   "metadata": {},
   "outputs": [
    {
     "name": "stdout",
     "output_type": "stream",
     "text": [
      "[1, 2, 3, 4]\n"
     ]
    }
   ],
   "source": [
    "aList = [3,2,1,4]\n",
    "bubble_sort(aList)\n",
    "print(aList)"
   ]
  },
  {
   "cell_type": "code",
   "execution_count": 61,
   "metadata": {},
   "outputs": [],
   "source": [
    "# selection sort:\n",
    "def selection_sort(L):\n",
    "    suffixSt = 0\n",
    "    while suffixSt != len(L):\n",
    "        for i in range(suffixSt, len(L)):\n",
    "            if L[i] < L[suffixSt]:\n",
    "                L[suffixSt], L[i] = L[i], L[suffixSt]\n",
    "        suffixSt += 1"
   ]
  },
  {
   "cell_type": "code",
   "execution_count": 62,
   "metadata": {},
   "outputs": [
    {
     "name": "stdout",
     "output_type": "stream",
     "text": [
      "[1, 2, 3, 4, 5]\n"
     ]
    }
   ],
   "source": [
    "aList = [4,5,1,3,2]\n",
    "selection_sort(aList)\n",
    "print(aList)"
   ]
  },
  {
   "cell_type": "code",
   "execution_count": 65,
   "metadata": {},
   "outputs": [
    {
     "name": "stdout",
     "output_type": "stream",
     "text": [
      "[1, 5, 3, 8, 4, 9, 6, 2]\n",
      "[1, 5, 3, 8, 4, 9, 6, 2]\n",
      "[1, 2, 3, 8, 4, 9, 6, 5]\n",
      "[1, 2, 3, 8, 4, 9, 6, 5]\n",
      "[1, 2, 3, 5, 4, 9, 6, 8]\n",
      "[1, 2, 3, 5, 4, 9, 6, 8]\n",
      "[1, 2, 3, 5, 4, 8, 6, 9]\n"
     ]
    }
   ],
   "source": [
    "def selSort(L):\n",
    "    for i in range(len(L) - 1):\n",
    "        print(L)\n",
    "        minIndx = i\n",
    "        minval = L[i]\n",
    "        j = i+1\n",
    "        while j < len(L):\n",
    "            if minval > L[j]:\n",
    "                minIndx = j\n",
    "                minVal = L[j]\n",
    "            j += 1\n",
    "        temp = L[i]\n",
    "        L[i] = L[minIndx]\n",
    "        L[minIndx] = temp\n",
    "        \n",
    "test = [1,5,3,8,4,9,6,2]\n",
    "\n",
    "selSort(test)"
   ]
  },
  {
   "cell_type": "code",
   "execution_count": 13,
   "metadata": {},
   "outputs": [],
   "source": [
    "# Exercise 6\n",
    "import time\n",
    "def mySort(L):\n",
    "    '''basically bubble sort'''\n",
    "    clear = False\n",
    "    while not clear:\n",
    "        clear = True\n",
    "        for j in range(1, len(L)):\n",
    "            if L[j-1] > L[j]:\n",
    "                clear = False\n",
    "                temp = L[j]\n",
    "                L[j] = L[j-1]\n",
    "                L[j-1] = temp\n",
    "                print(L, end = '\\r')\n",
    "                time.sleep(2)\n",
    "                \n",
    "def newSort(L):\n",
    "    '''basically selection sort'''\n",
    "    for i in range(len(L) - 1):\n",
    "        j = i+1\n",
    "        while j < len(L):\n",
    "            if L[i] > L[j]:\n",
    "                temp = L[i]\n",
    "                L[i] = L[j]\n",
    "                L[j] = temp\n",
    "            j += 1\n",
    "            print(L, end = '\\r')\n",
    "            time.sleep(1)\n",
    "\n",
    "            \n",
    "# 2. The two functions execute the same number of assignments\n",
    "\n",
    "# 4. mySort and newSort examine different numbers of entries, \n",
    "#but one cannot always say which function will examine the most entries"
   ]
  },
  {
   "cell_type": "code",
   "execution_count": 18,
   "metadata": {},
   "outputs": [],
   "source": [
    "L = [6,3,5,1,8,854,2,52,35,13]\n"
   ]
  },
  {
   "cell_type": "code",
   "execution_count": 19,
   "metadata": {},
   "outputs": [
    {
     "name": "stdout",
     "output_type": "stream",
     "text": [
      "[1, 2, 3, 5, 6, 8, 13, 35, 52, 854]\r"
     ]
    }
   ],
   "source": [
    "mySort(L)"
   ]
  },
  {
   "cell_type": "code",
   "execution_count": 16,
   "metadata": {},
   "outputs": [],
   "source": [
    "L = [6,3,5,1,8,854,2,52,35,13]\n"
   ]
  },
  {
   "cell_type": "code",
   "execution_count": 17,
   "metadata": {},
   "outputs": [
    {
     "name": "stdout",
     "output_type": "stream",
     "text": [
      "[1, 2, 3, 5, 6, 8, 13, 35, 52, 854]\r"
     ]
    }
   ],
   "source": [
    "newSort(L)"
   ]
  },
  {
   "cell_type": "code",
   "execution_count": 20,
   "metadata": {},
   "outputs": [],
   "source": [
    "# merge sort\n",
    "def mergesort(L):\n",
    "    if len(L) <= 1:\n",
    "        #return L\n",
    "        return L[:] # returning a copy is good practice\n",
    "    else:\n",
    "        #return merge(mergesort(L[:int(len(L)/2)]), mergesort(L[int(len(L)/2):]))\n",
    "        return merge(mergesort(L[:len(L)//2]), mergesort(L[len(L)//2:]))\n",
    "\n",
    "def merge(L1, L2):\n",
    "    '''L1 and L2 are sorted lists of integers'''\n",
    "    mergedList = []\n",
    "    while not(len(L1) == 0 or len(L2) == 0):\n",
    "        if L1[0] <= L2[0]:\n",
    "            mergedList.append(L1[0])\n",
    "            L1.remove(L1[0])\n",
    "        elif L1[0] > L2[0]:\n",
    "            mergedList.append(L2[0])\n",
    "            L2.remove(L2[0])\n",
    "    if len(L1) == 0:\n",
    "        for i in L2:\n",
    "            mergedList.append(i)\n",
    "    elif len(L2) == 0:\n",
    "        for i in L1:\n",
    "            mergedList.append(i)\n",
    "        \n",
    "    return mergedList\n",
    "    "
   ]
  },
  {
   "cell_type": "code",
   "execution_count": 21,
   "metadata": {},
   "outputs": [
    {
     "name": "stdout",
     "output_type": "stream",
     "text": [
      "[0, 0, 1, 1, 2, 2, 3, 4, 5, 5, 6, 7, 10, 11, 12, 13]\n"
     ]
    }
   ],
   "source": [
    "a = [1,2,5,7,10]\n",
    "b = [0,0,1,2,3,4,5,6,11,12,13]\n",
    "print(merge(a,b))"
   ]
  },
  {
   "cell_type": "code",
   "execution_count": 22,
   "metadata": {},
   "outputs": [
    {
     "name": "stdout",
     "output_type": "stream",
     "text": [
      "[1, 1, 1, 2, 2, 3, 3, 3, 3, 4, 4, 5, 14]\n"
     ]
    }
   ],
   "source": [
    "c = [14,1,3,1,3,4,5,1,2,3,4,2,3]\n",
    "print(mergesort(c))"
   ]
  },
  {
   "cell_type": "code",
   "execution_count": 23,
   "metadata": {},
   "outputs": [
    {
     "name": "stdout",
     "output_type": "stream",
     "text": [
      "[1, 2, 3, 4, 5, 6, 7, 8, 9]\n"
     ]
    }
   ],
   "source": [
    "d = [9,8,7,6,5,4,3,2,1]\n",
    "print(mergesort(d))"
   ]
  },
  {
   "cell_type": "code",
   "execution_count": 24,
   "metadata": {},
   "outputs": [],
   "source": [
    "# and here's the course's example code\n",
    "def merge(left, right):\n",
    "    result = []\n",
    "    i, j = 0, 0\n",
    "    while i < len(left) and j < len(right):\n",
    "        if left[i] < right[j]:\n",
    "            result.append(left[i])\n",
    "            i += 1\n",
    "        else:\n",
    "            result.append(right[j])\n",
    "            j += 1\n",
    "    while (i < len(left)):\n",
    "        result.append(left[i])\n",
    "        i += 1\n",
    "    while (j < len(right)):\n",
    "        result.append(right[j])\n",
    "        j += 1\n",
    "    return result\n",
    "\n",
    "def merge_sort(L):\n",
    "    if len(L) < 2:\n",
    "        return L[:] # returning copy \n",
    "    else:\n",
    "        middle = len(L)//2 # // vs int(len(L)/2)\n",
    "        left = merge_sort(L[:middle])\n",
    "        right = merge_sort(L[middle:])\n",
    "        return merge(left, right)\n"
   ]
  },
  {
   "cell_type": "code",
   "execution_count": null,
   "metadata": {},
   "outputs": [],
   "source": [
    "# Exercise 7\n",
    "\n",
    "# Application A:\n",
    "# Every time it's asked to, it performs a linear search through list L to find whether it contains x.\n",
    "\n",
    "# Application B:\n",
    "# Sort list L once before doing anything else (using mergeSort). Whenever it's asked to find x in L, it performs a binary search on L.\n",
    "\n",
    "\n",
    "# if the application is asked to find x in L k times, worst case complexities\n",
    "    # for A: O(kn)\n",
    "    \n",
    "    # for B: O(nlogn + klogn)\n",
    "\n"
   ]
  }
 ],
 "metadata": {
  "kernelspec": {
   "display_name": "Python 3",
   "language": "python",
   "name": "python3"
  },
  "language_info": {
   "codemirror_mode": {
    "name": "ipython",
    "version": 3
   },
   "file_extension": ".py",
   "mimetype": "text/x-python",
   "name": "python",
   "nbconvert_exporter": "python",
   "pygments_lexer": "ipython3",
   "version": "3.6.5"
  }
 },
 "nbformat": 4,
 "nbformat_minor": 2
}
