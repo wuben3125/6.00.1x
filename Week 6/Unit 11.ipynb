{
 "cells": [
  {
   "cell_type": "code",
   "execution_count": 1,
   "metadata": {},
   "outputs": [],
   "source": [
    "# Unit 11 - computational complexity"
   ]
  },
  {
   "cell_type": "code",
   "execution_count": 2,
   "metadata": {},
   "outputs": [],
   "source": [
    "# Content:\n",
    "    # examples of functions with counted number of operations\n",
    "    # examples of functions for each comlexity class (sans n log n - this would include merge sort)\n",
    "    # iterative fibonacci vs recursive fibonacci without dictionary\n"
   ]
  },
  {
   "cell_type": "code",
   "execution_count": 3,
   "metadata": {},
   "outputs": [],
   "source": [
    "# Uncertainties\n",
    "    # Order of growth / complexity order\n",
    "    # memoization\n",
    "    # //\n",
    "    # counting operations \n",
    "    # defining operations\n",
    "    # Big oh, asymptotic notation, complexity, upper bound\n",
    "        # how to measure input size (len vs size)\n",
    "    # .store()\n",
    "    # 2**(n**2) has higher order complexity than n**n\n",
    "   "
   ]
  },
  {
   "cell_type": "code",
   "execution_count": null,
   "metadata": {},
   "outputs": [],
   "source": [
    "# What kind of time does this take to run?\n",
    "def search_for_elmt(L, e):\n",
    "    for i in L:\n",
    "        if i == e:\n",
    "            return True\n",
    "    return False\n",
    "# on the order of len(L)\n",
    "    # best case \n",
    "    # worst case <-- most useful\n",
    "    # avg case"
   ]
  },
  {
   "cell_type": "code",
   "execution_count": 5,
   "metadata": {},
   "outputs": [],
   "source": [
    "# categories for order of growth:\n",
    "    # constant\n",
    "    # linear\n",
    "    # polynomial\n",
    "    # logarithmic\n",
    "    # n log n\n",
    "    # exponential\n",
    "    \n",
    "# not:\n",
    "    # the implicit checking that happens before a for loop\n",
    "    \n",
    "# I get the feeling this isn't /that/ practically important, althogh a few points are"
   ]
  },
  {
   "cell_type": "code",
   "execution_count": null,
   "metadata": {},
   "outputs": [],
   "source": [
    "# Things to count:\n",
    "    # mathematical operations\n",
    "    # comparisons\n",
    "    # assignments\n",
    "    # accessing objects in memoery\n",
    "    # return statement"
   ]
  },
  {
   "cell_type": "code",
   "execution_count": 4,
   "metadata": {},
   "outputs": [],
   "source": [
    "# Exercise 1\n",
    "def linearSearch(L, x):\n",
    "    for e in L:\n",
    "        if e == x:\n",
    "            return True\n",
    "    return False\n",
    "\n",
    "# total number of steps to search in worst case: 2n + 1 (counting the iteration, conditional evaluation, and the return statement)"
   ]
  },
  {
   "cell_type": "code",
   "execution_count": 6,
   "metadata": {},
   "outputs": [
    {
     "data": {
      "text/plain": [
       "2"
      ]
     },
     "execution_count": 6,
     "metadata": {},
     "output_type": "execute_result"
    }
   ],
   "source": [
    "5//2"
   ]
  },
  {
   "cell_type": "code",
   "execution_count": 7,
   "metadata": {},
   "outputs": [],
   "source": [
    "# Exercise 2:\n"
   ]
  },
  {
   "cell_type": "code",
   "execution_count": 9,
   "metadata": {},
   "outputs": [],
   "source": [
    "# Program 1:\n",
    "def program1(x):\n",
    "    total = 0\n",
    "    for i in range(1000):\n",
    "        total += i\n",
    "    \n",
    "    while x > 0:\n",
    "        x -= 1\n",
    "        total += x\n",
    "    \n",
    "    return total\n",
    "\n",
    "# at worst case, requires 1 + 3*1000 + 5*n + 1 + 1 = 5*n + 3003 steps"
   ]
  },
  {
   "cell_type": "code",
   "execution_count": 10,
   "metadata": {},
   "outputs": [],
   "source": [
    "# Program 2:\n",
    "def program2(x):\n",
    "    total = 0\n",
    "    for i in range(1000):\n",
    "        total = i\n",
    "        \n",
    "    while x > 0:\n",
    "        x = x//2\n",
    "        total += x\n",
    "        \n",
    "    return total\n",
    "\n",
    "# in worst case, requires 1 + 2*1000 + 5*(log2(n) + 1) + 1 + 1 = 5*log2(n) + 2008 steps"
   ]
  },
  {
   "cell_type": "code",
   "execution_count": null,
   "metadata": {},
   "outputs": [],
   "source": [
    "# Program 3:\n",
    "def program3(L):\n",
    "    totalSum = 0\n",
    "    highestFound = None\n",
    "    for x in L:\n",
    "        totalSum += x\n",
    "    \n",
    "    for x in L:\n",
    "        if highestFound == None:\n",
    "            highestFound = x\n",
    "        elif x > highestFound:\n",
    "            highestFound = x\n",
    "            \n",
    "    return (totalSum, highestFound)\n",
    "\n",
    "# in best case, requires 3 steps\n",
    "\n",
    "# in worst case, requires 2 + 3*n + 4*n - 1 + 1 = 7*n + 2 steps"
   ]
  },
  {
   "cell_type": "code",
   "execution_count": 11,
   "metadata": {},
   "outputs": [],
   "source": [
    "# Video: big oh notation\n",
    "    # upper bound on the asymptotic growth \n",
    "        # ignores additive constants and multiplicative constants, focus on dominant terms\n",
    "    # worst case scenario is the bottlenek"
   ]
  },
  {
   "cell_type": "code",
   "execution_count": 12,
   "metadata": {},
   "outputs": [],
   "source": [
    "# ex: \n",
    "def fact_iter(n):\n",
    "    answer = 1\n",
    "    while n >1:\n",
    "        answer *= n\n",
    "        n -= 1\n",
    "    return answer\n",
    "\n",
    "# 1 + 5n + 1 --> O(n). \"of order n\""
   ]
  },
  {
   "cell_type": "code",
   "execution_count": 13,
   "metadata": {},
   "outputs": [],
   "source": [
    "# Examples:\n",
    "    # n**2 + 2n + 2 --> O(n**2)\n",
    "    # log(n) + n + 4 --> O(n)\n",
    "    # 0.0001*n*log(n) + 300*n --> O(n*log(n))\n",
    "    # n**30 + 3**n --> O(3**n)"
   ]
  },
  {
   "cell_type": "code",
   "execution_count": 14,
   "metadata": {},
   "outputs": [],
   "source": [
    "# Law of additino for O():\n",
    "    # O(n) + O(n**2) = O(n**2 + n) = O(n**2)"
   ]
  },
  {
   "cell_type": "code",
   "execution_count": 16,
   "metadata": {},
   "outputs": [],
   "source": [
    "# Exercise 3\n",
    "def program3(L1, L2):\n",
    "    '''len(L1) = len(L2)'''\n",
    "    intersection = []\n",
    "    for elt in L1:\n",
    "        if elt in L2:\n",
    "            intersection.append(elt)\n",
    "    return intersection\n",
    "\n",
    "# worst case: 1 + 2*n**2 + 1 = 2 + 2*n**2 steps (parsing a list requires n steps in worst case)"
   ]
  },
  {
   "cell_type": "code",
   "execution_count": 17,
   "metadata": {},
   "outputs": [],
   "source": [
    "# Exercise 4:\n",
    "\n",
    "# a single elimination tournament has O(n) number of games, although it has O(logn) number of rounds"
   ]
  },
  {
   "cell_type": "code",
   "execution_count": 18,
   "metadata": {},
   "outputs": [],
   "source": [
    "# Complexity classes:\n",
    "    # O(1)\n",
    "    # O(logn)\n",
    "    # O(n)\n",
    "    # O(n logn)\n",
    "    # O(n^c)\n",
    "    # O(c^n)"
   ]
  },
  {
   "cell_type": "code",
   "execution_count": 19,
   "metadata": {},
   "outputs": [],
   "source": [
    "# log complexity example:\n",
    "def intToStr(i):\n",
    "    digits = '0123456789'\n",
    "    if i == 0:\n",
    "        return '0'\n",
    "    result = ''\n",
    "    while i > 0:\n",
    "        result = digits[i%10] + result\n",
    "        i = i//10\n",
    "    return result\n",
    "\n",
    "# log based when measured in terms of the size of i, linear based when measured in terms of the number of digits"
   ]
  },
  {
   "cell_type": "code",
   "execution_count": 22,
   "metadata": {},
   "outputs": [],
   "source": [
    "# linear complexity examples:\n",
    "def addDigits(s):\n",
    "    val = 0 \n",
    "    for c in s:\n",
    "        val += int(c)\n",
    "    return val\n",
    "\n",
    "def fact_iter(n):\n",
    "    prod = 1\n",
    "    for i in range(1, n+1):\n",
    "        prod *= i\n",
    "    return prod\n",
    "\n",
    "def fact_recur(n):\n",
    "    \"\"\"assume n >= 0\"\"\"\n",
    "    if n <= 1:\n",
    "        return 1\n",
    "    else:\n",
    "        return fact_recur(n-1) # function call makes this slower than the iterative version"
   ]
  },
  {
   "cell_type": "code",
   "execution_count": 23,
   "metadata": {},
   "outputs": [],
   "source": [
    "# log linear complexity examples:\n"
   ]
  },
  {
   "cell_type": "code",
   "execution_count": 26,
   "metadata": {},
   "outputs": [],
   "source": [
    "# polynomial complexity examples:\n",
    "def isSubset(L1, L2):\n",
    "    \"\"\"returns whether L1 is a subset of L2\"\"\"\n",
    "    for e1 in L1:\n",
    "        matched = False\n",
    "        for e2 in L2: # nested loops\n",
    "            if e1 == e2:\n",
    "                matched = True\n",
    "                break\n",
    "        if not matched:\n",
    "            return False\n",
    "    return True\n",
    "\n",
    "def intersect(L1, L2):\n",
    "    tmp = []\n",
    "    for e1 in L1:\n",
    "        for e2 in L2:\n",
    "            if e1 == e2:\n",
    "                tmp.append(e1)\n",
    "    res = [] # remove duplicates\n",
    "    for e in tmp:\n",
    "        if not(e in res):\n",
    "            res.append(e)\n",
    "    return res\n",
    "\n",
    "def inefficientSquare(n):\n",
    "    x = 0\n",
    "    for i in range(n):\n",
    "        for j in range(n):\n",
    "            x += 1\n",
    "    \n",
    "    return x"
   ]
  },
  {
   "cell_type": "code",
   "execution_count": 27,
   "metadata": {},
   "outputs": [
    {
     "data": {
      "text/plain": [
       "4"
      ]
     },
     "execution_count": 27,
     "metadata": {},
     "output_type": "execute_result"
    }
   ],
   "source": [
    "inefficientSquare(2) "
   ]
  },
  {
   "cell_type": "code",
   "execution_count": 28,
   "metadata": {},
   "outputs": [],
   "source": [
    "# exponential complexity examles:\n",
    "\n",
    "# tower of Hanoi\n",
    "# usually no alternative; an approximation is usually settled for\n",
    "\n",
    "def genSubsets(L):\n",
    "    res = []\n",
    "    if len(L) == 0:\n",
    "        return [[]]\n",
    "    smaller = genSubsets(L[:-1])\n",
    "    \n",
    "    extra  = L[-1:]\n",
    "    new = []\n",
    "    for small in smaller:\n",
    "        new.append(small+extra)\n",
    "    return smaller+new"
   ]
  },
  {
   "cell_type": "code",
   "execution_count": 29,
   "metadata": {},
   "outputs": [
    {
     "data": {
      "text/plain": [
       "[[],\n",
       " ['a'],\n",
       " [1],\n",
       " ['a', 1],\n",
       " [2],\n",
       " ['a', 2],\n",
       " [1, 2],\n",
       " ['a', 1, 2],\n",
       " [3],\n",
       " ['a', 3],\n",
       " [1, 3],\n",
       " ['a', 1, 3],\n",
       " [2, 3],\n",
       " ['a', 2, 3],\n",
       " [1, 2, 3],\n",
       " ['a', 1, 2, 3],\n",
       " ['b'],\n",
       " ['a', 'b'],\n",
       " [1, 'b'],\n",
       " ['a', 1, 'b'],\n",
       " [2, 'b'],\n",
       " ['a', 2, 'b'],\n",
       " [1, 2, 'b'],\n",
       " ['a', 1, 2, 'b'],\n",
       " [3, 'b'],\n",
       " ['a', 3, 'b'],\n",
       " [1, 3, 'b'],\n",
       " ['a', 1, 3, 'b'],\n",
       " [2, 3, 'b'],\n",
       " ['a', 2, 3, 'b'],\n",
       " [1, 2, 3, 'b'],\n",
       " ['a', 1, 2, 3, 'b']]"
      ]
     },
     "execution_count": 29,
     "metadata": {},
     "output_type": "execute_result"
    }
   ],
   "source": [
    "aList = ['a',1,2,3,'b']\n",
    "genSubsets(aList)"
   ]
  },
  {
   "cell_type": "code",
   "execution_count": 31,
   "metadata": {},
   "outputs": [],
   "source": [
    "# Exercise 6:\n",
    "def recurPowerNew(a,b):\n",
    "    # uses a mergesort-like process of order O(log(b)) to calculate a**b\n",
    "    print(a,b)\n",
    "    if b == 0:\n",
    "        return 1\n",
    "    elif b%2 == 0:\n",
    "        return recurPowerNew(a*a, b/2)\n",
    "    else:\n",
    "        return a * recurPowerNew(a, b-1)"
   ]
  },
  {
   "cell_type": "code",
   "execution_count": 32,
   "metadata": {},
   "outputs": [
    {
     "name": "stdout",
     "output_type": "stream",
     "text": [
      "5 5\n",
      "5 4\n",
      "25 2.0\n",
      "625 1.0\n",
      "625 0.0\n"
     ]
    },
    {
     "data": {
      "text/plain": [
       "3125"
      ]
     },
     "execution_count": 32,
     "metadata": {},
     "output_type": "execute_result"
    }
   ],
   "source": [
    "recurPowerNew(5,5)"
   ]
  },
  {
   "cell_type": "code",
   "execution_count": 33,
   "metadata": {},
   "outputs": [],
   "source": [
    "# video - recursion complexity:\n"
   ]
  },
  {
   "cell_type": "code",
   "execution_count": 34,
   "metadata": {},
   "outputs": [],
   "source": [
    "def h(n):\n",
    "    '''assume n is an int >= 0\n",
    "    \"It's a slightly brain damaged, or if you prefer, \n",
    "    computationally challenged algorithm.\"\n",
    "    '''\n",
    "    answer = 0\n",
    "    s = str(n)\n",
    "    for c in s:\n",
    "        answer += int(c)\n",
    "    return answer"
   ]
  },
  {
   "cell_type": "code",
   "execution_count": 35,
   "metadata": {},
   "outputs": [
    {
     "data": {
      "text/plain": [
       "10"
      ]
     },
     "execution_count": 35,
     "metadata": {},
     "output_type": "execute_result"
    }
   ],
   "source": [
    "h(2341)"
   ]
  },
  {
   "cell_type": "code",
   "execution_count": 36,
   "metadata": {},
   "outputs": [],
   "source": [
    "# complexity of iterative fibonacci?\n",
    "def fib_iter(n):\n",
    "    if n == 0:\n",
    "        return 1\n",
    "    elif n == 1:\n",
    "        return 1\n",
    "    else:\n",
    "        fib_i = 0\n",
    "        fib_ii = 1\n",
    "        for i in range(n-1):\n",
    "            tmp = fib_i\n",
    "            fib_i = fib_ii\n",
    "            fib_ii = tmp + fib_ii\n",
    "        return fib_ii\n",
    "    \n",
    "    # linear"
   ]
  },
  {
   "cell_type": "code",
   "execution_count": 37,
   "metadata": {},
   "outputs": [],
   "source": [
    "# complexity of recursie fibonacci?\n",
    "def fib_recur(n):\n",
    "    if n == 0:\n",
    "        return 1\n",
    "    elif n == 1:\n",
    "        return 1\n",
    "    else:\n",
    "        return fib_recur(n-1) + fib_recur(n-2)\n",
    "    \n",
    "    # exponential..."
   ]
  },
  {
   "cell_type": "code",
   "execution_count": null,
   "metadata": {},
   "outputs": [],
   "source": [
    "# Complexities of built in python functions:\n",
    "    # https://www.ics.uci.edu/~pattis/ICS-33/lectures/complexitypython.txt"
   ]
  },
  {
   "cell_type": "code",
   "execution_count": null,
   "metadata": {},
   "outputs": [],
   "source": []
  },
  {
   "cell_type": "code",
   "execution_count": null,
   "metadata": {},
   "outputs": [],
   "source": []
  },
  {
   "cell_type": "code",
   "execution_count": null,
   "metadata": {},
   "outputs": [],
   "source": []
  },
  {
   "cell_type": "code",
   "execution_count": null,
   "metadata": {},
   "outputs": [],
   "source": []
  },
  {
   "cell_type": "code",
   "execution_count": null,
   "metadata": {},
   "outputs": [],
   "source": []
  },
  {
   "cell_type": "code",
   "execution_count": null,
   "metadata": {},
   "outputs": [],
   "source": []
  },
  {
   "cell_type": "code",
   "execution_count": null,
   "metadata": {},
   "outputs": [],
   "source": []
  },
  {
   "cell_type": "code",
   "execution_count": null,
   "metadata": {},
   "outputs": [],
   "source": []
  }
 ],
 "metadata": {
  "kernelspec": {
   "display_name": "Python 3",
   "language": "python",
   "name": "python3"
  },
  "language_info": {
   "codemirror_mode": {
    "name": "ipython",
    "version": 3
   },
   "file_extension": ".py",
   "mimetype": "text/x-python",
   "name": "python",
   "nbconvert_exporter": "python",
   "pygments_lexer": "ipython3",
   "version": "3.6.5"
  }
 },
 "nbformat": 4,
 "nbformat_minor": 2
}
