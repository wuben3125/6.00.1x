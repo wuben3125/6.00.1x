{
 "cells": [
  {
   "cell_type": "code",
   "execution_count": 1,
   "metadata": {},
   "outputs": [],
   "source": [
    "# Pset 2 for 6.00.1x "
   ]
  },
  {
   "cell_type": "code",
   "execution_count": 2,
   "metadata": {},
   "outputs": [],
   "source": [
    "# Problem 1 - Paying off Debt in a Year\n",
    "# S: 8:23\n",
    "# E: 8:29\n",
    "\n",
    "def creditBalanceAfterYear(balance, annualInterestRate, monthlyPaymentRate):\n",
    "    '''calculates the amount of credit card balance remaining after\n",
    "    paying 12 months of the minimum rate, accounting for monthly-divided annual interest,\n",
    "    assuming that interest is counted at the end of the month (after payments are made)'''\n",
    "    \n",
    "    monthlyInterestRate = annualInterestRate/12.0\n",
    "    \n",
    "    balanceCopy = balance\n",
    "    \n",
    "    for i in range(1,13):\n",
    "        balanceCopy -= balanceCopy*monthlyPaymentRate\n",
    "        balanceCopy += balanceCopy*monthlyInterestRate\n",
    "        #print(f\"After month {i}, ${round(balance,2)} remains to be paid\")\n",
    "        \n",
    "    print(f\"Remaining balance: ${round(balanceCopy, 2)}\")\n",
    "    \n",
    "    return balanceCopy\n",
    "        \n",
    "    "
   ]
  },
  {
   "cell_type": "code",
   "execution_count": 3,
   "metadata": {},
   "outputs": [
    {
     "name": "stdout",
     "output_type": "stream",
     "text": [
      "Remaining balance: $1.46\n"
     ]
    },
    {
     "data": {
      "text/plain": [
       "1.4594948382098822"
      ]
     },
     "execution_count": 3,
     "metadata": {},
     "output_type": "execute_result"
    }
   ],
   "source": [
    "creditBalanceAfterYear(5000, 0.18, 0.5)\n"
   ]
  },
  {
   "cell_type": "code",
   "execution_count": 13,
   "metadata": {},
   "outputs": [],
   "source": [
    "# Problem 2 - Minimum fixed monthly amount to finish payment\n",
    "# S: 10:04\n",
    "# E: 12:55\n",
    "\n",
    "def creditBalanceAfterYearFixedMonthly(balance, annualInterestRate, fixedMonthlyRate):\n",
    "    monthlyInterestRate = annualInterestRate/12.0\n",
    "\n",
    "    for i in range(1,13):\n",
    "        balance -= fixedMonthlyRate\n",
    "        balance += balance*monthlyInterestRate\n",
    "        #print(f\"After month {i}, ${round(balance,2)} remains to be paid\")\n",
    "        \n",
    "    print(f\"Remaining balance: ${round(balance, 2)}\")\n",
    "    \n",
    "    return balance\n",
    "\n",
    "def minFixedMonthlyPayment(balance, annualInterestRate):\n",
    "    guess = 0\n",
    "    iteration = 0\n",
    "    \n",
    "    def helper(balance, annualInterestRate, guess, iteration):\n",
    "        if creditBalanceAfterYearFixedMonthly(balance, annualInterestRate, guess) < 0:\n",
    "            print(f\"Iteration {iteration}: minimum monthly payment is ${guess}\")\n",
    "            return guess\n",
    "        else:\n",
    "            return helper(balance, annualInterestRate, guess + 10, iteration+1)\n",
    "        \n",
    "        \n",
    "    return helper(balance, annualInterestRate, guess, iteration)"
   ]
  },
  {
   "cell_type": "code",
   "execution_count": 14,
   "metadata": {},
   "outputs": [
    {
     "name": "stdout",
     "output_type": "stream",
     "text": [
      "Remaining balance: $5978.09\n",
      "Remaining balance: $5845.72\n",
      "Remaining balance: $5713.35\n",
      "Remaining balance: $5580.99\n",
      "Remaining balance: $5448.62\n",
      "Remaining balance: $5316.25\n",
      "Remaining balance: $5183.88\n",
      "Remaining balance: $5051.51\n",
      "Remaining balance: $4919.14\n",
      "Remaining balance: $4786.78\n",
      "Remaining balance: $4654.41\n",
      "Remaining balance: $4522.04\n",
      "Remaining balance: $4389.67\n",
      "Remaining balance: $4257.3\n",
      "Remaining balance: $4124.93\n",
      "Remaining balance: $3992.57\n",
      "Remaining balance: $3860.2\n",
      "Remaining balance: $3727.83\n",
      "Remaining balance: $3595.46\n",
      "Remaining balance: $3463.09\n",
      "Remaining balance: $3330.72\n",
      "Remaining balance: $3198.36\n",
      "Remaining balance: $3065.99\n",
      "Remaining balance: $2933.62\n",
      "Remaining balance: $2801.25\n",
      "Remaining balance: $2668.88\n",
      "Remaining balance: $2536.52\n",
      "Remaining balance: $2404.15\n",
      "Remaining balance: $2271.78\n",
      "Remaining balance: $2139.41\n",
      "Remaining balance: $2007.04\n",
      "Remaining balance: $1874.67\n",
      "Remaining balance: $1742.31\n",
      "Remaining balance: $1609.94\n",
      "Remaining balance: $1477.57\n",
      "Remaining balance: $1345.2\n",
      "Remaining balance: $1212.83\n",
      "Remaining balance: $1080.46\n",
      "Remaining balance: $948.1\n",
      "Remaining balance: $815.73\n",
      "Remaining balance: $683.36\n",
      "Remaining balance: $550.99\n",
      "Remaining balance: $418.62\n",
      "Remaining balance: $286.25\n",
      "Remaining balance: $153.89\n",
      "Remaining balance: $21.52\n",
      "Remaining balance: $-110.85\n",
      "Iteration 46: minimum balances is 460\n"
     ]
    },
    {
     "data": {
      "text/plain": [
       "460"
      ]
     },
     "execution_count": 14,
     "metadata": {},
     "output_type": "execute_result"
    }
   ],
   "source": [
    "# testing:\n",
    "minFixedMonthlyPayment(5000, 0.18)"
   ]
  },
  {
   "cell_type": "code",
   "execution_count": 15,
   "metadata": {},
   "outputs": [],
   "source": [
    "# Problem 3 - Minimum fixed monthly amount to finish payment, using bisection search\n",
    "# S: 12:55\n",
    "# E: 1:17\n",
    "\n",
    "def minFixedMonthlyPaymentBisection(balance, annualInterestRate):\n",
    "    '''\n",
    "    uses bisection search to guess and test for the minimum fixed monthly payment\n",
    "    to clear a credit card balance in a year\n",
    "    balance: in dollars\n",
    "    annualInterest rate: a decimal, will be divided into monthly interest in the program\n",
    "    '''\n",
    "    low = 0\n",
    "    high = balance\n",
    "    epsilon = 1\n",
    "    \n",
    "    iteration = 0 # starting iteration number\n",
    "        \n",
    "    def helper(balance, annualInterestRate, low, high, iteration):\n",
    "        guess = (low+high)/2.0\n",
    "        \n",
    "        if (-epsilon) < creditBalanceAfterYearFixedMonthly(balance, annualInterestRate, guess) < 0:\n",
    "            # if the balance is paid off with a certain level of precision\n",
    "            print(f\"Iteration {iteration}: the minumum monthly payment is ${guess}\")\n",
    "            return guess\n",
    "        elif creditBalanceAfterYearFixedMonthly(balance, annualInterestRate, guess) > 0:\n",
    "            # if the guess is too low\n",
    "            return helper(balance, annualInterestRate, guess, high, iteration + 1) \n",
    "        else:\n",
    "            # if the guess is too high\n",
    "            return helper(balance, annualInterestRate, low, guess, iteration + 1)\n",
    "        \n",
    "    return helper(balance, annualInterestRate, low, high, iteration)"
   ]
  },
  {
   "cell_type": "code",
   "execution_count": 16,
   "metadata": {},
   "outputs": [
    {
     "name": "stdout",
     "output_type": "stream",
     "text": [
      "Remaining balance: $-27113.98\n",
      "Remaining balance: $-27113.98\n",
      "Remaining balance: $-10567.95\n",
      "Remaining balance: $-10567.95\n",
      "Remaining balance: $-2294.93\n",
      "Remaining balance: $-2294.93\n",
      "Remaining balance: $1841.58\n",
      "Remaining balance: $1841.58\n",
      "Remaining balance: $-226.67\n",
      "Remaining balance: $-226.67\n",
      "Remaining balance: $807.45\n",
      "Remaining balance: $807.45\n",
      "Remaining balance: $290.39\n",
      "Remaining balance: $290.39\n",
      "Remaining balance: $31.86\n",
      "Remaining balance: $31.86\n",
      "Remaining balance: $-97.41\n",
      "Remaining balance: $-97.41\n",
      "Remaining balance: $-32.77\n",
      "Remaining balance: $-32.77\n",
      "Remaining balance: $-0.46\n",
      "Iteration 10: the minumum monthly payment is $451.66015625\n"
     ]
    },
    {
     "data": {
      "text/plain": [
       "451.66015625"
      ]
     },
     "execution_count": 16,
     "metadata": {},
     "output_type": "execute_result"
    }
   ],
   "source": [
    "minFixedMonthlyPaymentBisection(5000, 0.18)\n"
   ]
  },
  {
   "cell_type": "code",
   "execution_count": null,
   "metadata": {},
   "outputs": [],
   "source": []
  }
 ],
 "metadata": {
  "kernelspec": {
   "display_name": "Python 3",
   "language": "python",
   "name": "python3"
  },
  "language_info": {
   "codemirror_mode": {
    "name": "ipython",
    "version": 3
   },
   "file_extension": ".py",
   "mimetype": "text/x-python",
   "name": "python",
   "nbconvert_exporter": "python",
   "pygments_lexer": "ipython3",
   "version": "3.6.5"
  }
 },
 "nbformat": 4,
 "nbformat_minor": 2
}
