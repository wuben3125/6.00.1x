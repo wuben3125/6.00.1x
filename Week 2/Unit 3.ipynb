{
 "cells": [
  {
   "cell_type": "code",
   "execution_count": 2,
   "metadata": {},
   "outputs": [],
   "source": [
    "# Unit 3 - Simple Algorithms\n",
    "\n",
    "# Code Examples:\n",
    "#     Incremenental search\n",
    "#     Binary search\n",
    "#     Converting decimals and decimal fractions to binary storage\n",
    "#     Newton-Raphson polynomial approximation (application to binary search for square roots, etc.)\n"
   ]
  },
  {
   "cell_type": "code",
   "execution_count": null,
   "metadata": {},
   "outputs": [],
   "source": [
    "# Learnings:\n",
    "# //\n",
    "# break statement only breaks out of inner loop\n",
    "# absolute val of difference abs(a-b) is better for floats than a==b\n",
    "# Newton-Raphson polynomial approximation\n",
    "# MarkDown is cool but weird-looking; needs work\n",
    "    # https://stackoverflow.com/questions/13208286/how-to-write-latex-in-ipython-notebook"
   ]
  },
  {
   "cell_type": "code",
   "execution_count": null,
   "metadata": {},
   "outputs": [],
   "source": [
    "# Exercise 1, problem 3\n",
    "iteration = 0\n",
    "while iteration < 5:\n",
    "    count = 0\n",
    "    for letter in \"hello, world\":\n",
    "        count += 1\n",
    "        if iteration % 2 == 0:\n",
    "            break\n",
    "    print(\"Iteration \" + str(iteration) + \"; count is: \" + str(count))\n",
    "    iteration += 1"
   ]
  },
  {
   "cell_type": "code",
   "execution_count": 3,
   "metadata": {},
   "outputs": [
    {
     "name": "stdout",
     "output_type": "stream",
     "text": [
      "0 0\n",
      "1 0\n",
      "2 0\n",
      "3 0\n",
      "4 0\n"
     ]
    }
   ],
   "source": [
    "# testing\n",
    "i = 0\n",
    "while i < 5:\n",
    "    j = 0\n",
    "    while j < 5:\n",
    "        if j % 2 == 0:\n",
    "            break\n",
    "        j += 1\n",
    "    print(i, j)\n",
    "    \n",
    "    i += 1\n",
    "    \n",
    "# note: the break statement only breaks out of the inner of nested while loops..."
   ]
  },
  {
   "cell_type": "code",
   "execution_count": 4,
   "metadata": {},
   "outputs": [
    {
     "name": "stdout",
     "output_type": "stream",
     "text": [
      "0 1\n",
      "1 1\n",
      "2 1\n",
      "3 1\n",
      "4 1\n"
     ]
    }
   ],
   "source": [
    "for i in range(5):\n",
    "    for j in range(5):\n",
    "        if j == 1:\n",
    "            break\n",
    "    print(i, j)\n",
    "# same with for loops - the break statement only breaks out of the inner loop"
   ]
  },
  {
   "cell_type": "code",
   "execution_count": 5,
   "metadata": {},
   "outputs": [],
   "source": [
    "# this course involves too much talking and not enough doing... I love ya, Grimson, but I can\n",
    "# tell this isn't your instruction at its best"
   ]
  },
  {
   "cell_type": "code",
   "execution_count": 6,
   "metadata": {},
   "outputs": [
    {
     "name": "stdout",
     "output_type": "stream",
     "text": [
      "num_guesses = 29997\n",
      "2.999700000001906 is close to the cube root of 27\n"
     ]
    }
   ],
   "source": [
    "# Approximate solution - cube root\n",
    "cube = 27\n",
    "epsilon = 0.01\n",
    "guess = 0.0\n",
    "increment = 0.0001\n",
    "num_guesses = 0\n",
    "while abs(guess**3 - cube) >= epsilon and guess <= cube:\n",
    "    guess += increment\n",
    "    num_guesses += 1\n",
    "print('num_guesses =', num_guesses)\n",
    "if abs(guess**3 - cube) >= epsilon:\n",
    "    print('Failed on cube root of', cube)\n",
    "else:\n",
    "    print(guess, 'is close to the cube root of', cube)"
   ]
  },
  {
   "cell_type": "code",
   "execution_count": 27,
   "metadata": {},
   "outputs": [
    {
     "name": "stdout",
     "output_type": "stream",
     "text": [
      "low = 1.0 high = 24 ans = 11.5\n",
      "low = 1.0 high = 11.5 ans = 6.25\n",
      "low = 1.0 high = 6.25 ans = 3.625\n",
      "low = 3.625 high = 6.25 ans = 4.9375\n",
      "low = 3.625 high = 4.9375 ans = 4.28125\n",
      "low = 4.28125 high = 4.9375 ans = 4.609375\n",
      "low = 4.609375 high = 4.9375 ans = 4.7734375\n",
      "low = 4.7734375 high = 4.9375 ans = 4.85546875\n",
      "low = 4.85546875 high = 4.9375 ans = 4.896484375\n",
      "low = 4.896484375 high = 4.9375 ans = 4.9169921875\n",
      "low = 4.896484375 high = 4.9169921875 ans = 4.90673828125\n",
      "low = 4.896484375 high = 4.90673828125 ans = 4.901611328125\n",
      "numGuesses = 12\n",
      "4.8990478515625 is close to square root of 24\n"
     ]
    }
   ],
   "source": [
    "# Bisection/binary search example\n",
    "x = 24\n",
    "epsilon = 0.01\n",
    "numGuesses = 0\n",
    "low = 1.0\n",
    "high = x\n",
    "ans = (high - low)/2.0\n",
    "\n",
    "while abs(ans**2 - x) > epsilon:\n",
    "    print('low = ' + str(low) + ' high = ' + str(high) + ' ans = ' + str(ans))\n",
    "    numGuesses += 1\n",
    "    if ans**2 < x:\n",
    "        low = ans\n",
    "    else:\n",
    "        high = ans\n",
    "    ans = (high + low)/2.0\n",
    "print('numGuesses = ' + str(numGuesses))\n",
    "print(str(ans) + ' is close to square root of ' + str(x))"
   ]
  },
  {
   "cell_type": "code",
   "execution_count": 10,
   "metadata": {},
   "outputs": [
    {
     "name": "stdout",
     "output_type": "stream",
     "text": [
      "low = 0.25 high = 1 ans = 0.625\n",
      "low = 0.25 high = 0.625 ans = 0.4375\n",
      "low = 0.4375 high = 0.625 ans = 0.53125\n",
      "low = 0.4375 high = 0.53125 ans = 0.484375\n",
      "numGuesses = 4\n",
      "0.5078125 is close to square root of 0.25\n"
     ]
    }
   ],
   "source": [
    "# Bisection/binary search for square roots of numbers less than 1\n",
    "x = 0.25\n",
    "epsilon = 0.01\n",
    "numGuesses = 0\n",
    "low = x\n",
    "high = 1\n",
    "ans = (high + low)/2.0\n",
    "\n",
    "while abs(ans**2 - x) > epsilon:\n",
    "    print('low = ' + str(low) + ' high = ' + str(high) + ' ans = ' + str(ans))\n",
    "    numGuesses += 1\n",
    "    if ans**2 < x:\n",
    "        low = ans\n",
    "    else:\n",
    "        high = ans\n",
    "    ans = (high + low)/2.0\n",
    "print('numGuesses = ' + str(numGuesses))\n",
    "print(str(ans) + ' is close to square root of ' + str(x))"
   ]
  },
  {
   "cell_type": "code",
   "execution_count": 11,
   "metadata": {},
   "outputs": [],
   "source": [
    "# Exercise: guess my number\n",
    "# S: 4:55\n",
    "# E: 5:02\n",
    "def guessMyNumber():\n",
    "    low = 0\n",
    "    high = 100\n",
    "    guess = (low + high)/2.0\n",
    "    response = 'l' # default starting value\n",
    "    \n",
    "    print('Please think of a number between 0 and 100!')\n",
    "    \n",
    "    while response != 'c':\n",
    "        print(f\"Is your secret number {round(guess)}?\")\n",
    "        response = input(\"Enter 'h' if the guess is too high. Enter 'l' if the guess is too low. Enter 'c' if it's correct.\")\n",
    "        if response == 'l':\n",
    "            low = guess\n",
    "            guess = (low+high)/2.0\n",
    "        elif response == 'h':\n",
    "            high = guess\n",
    "            guess = (low+high)/2.0\n",
    "    \n",
    "    print(f\"Game over. Your secret number was: {round(guess)}\")"
   ]
  },
  {
   "cell_type": "code",
   "execution_count": 15,
   "metadata": {
    "scrolled": true
   },
   "outputs": [
    {
     "name": "stdout",
     "output_type": "stream",
     "text": [
      "Please think of a number between 0 and 100!\n",
      "Is your secret number 50?\n",
      "Enter 'h' if the guess is too high. Enter 'l' if the guess is too low. Enter 'c' if it's correct.c\n",
      "Game over. Your secret number was: 50\n"
     ]
    }
   ],
   "source": [
    "guessMyNumber()\n",
    "# number was 37"
   ]
  },
  {
   "cell_type": "code",
   "execution_count": null,
   "metadata": {},
   "outputs": [],
   "source": []
  },
  {
   "cell_type": "code",
   "execution_count": 21,
   "metadata": {},
   "outputs": [],
   "source": [
    "# Question: how are floating decimal variables stored in binary?\n",
    "\n",
    "# Convert a fraction into a binary fraction\n",
    "def convertDecimalToBinary():\n",
    "    x = float(input('Enter a decimal number between 0 and 1: '))\n",
    "    \n",
    "    p = 0 \n",
    "    while ((2**p)*x)%1 != 0:\n",
    "        print('Remainder = ' + str((2**p)*x - int((2**p)*x)))\n",
    "        p += 1\n",
    "\n",
    "    num = int(x*(2**p))\n",
    "    \n",
    "    result = ''\n",
    "    if num == 0:\n",
    "        result = '0'\n",
    "    while num > 0:\n",
    "        result = str(num%2) + result\n",
    "        num = num//2\n",
    "        \n",
    "    for i in range(p - len(result)):\n",
    "        result = '0' + result\n",
    "        \n",
    "    result = result[0:-p] + '.' + result[-p:]\n",
    "    print('The binary representation of the decimal ' + str(x) + ' is ' + str(result))"
   ]
  },
  {
   "cell_type": "code",
   "execution_count": 24,
   "metadata": {},
   "outputs": [
    {
     "name": "stdout",
     "output_type": "stream",
     "text": [
      "Enter a decimal number between 0 and 1: 0.01\n",
      "Remainder = 0.01\n",
      "Remainder = 0.02\n",
      "Remainder = 0.04\n",
      "Remainder = 0.08\n",
      "Remainder = 0.16\n",
      "Remainder = 0.32\n",
      "Remainder = 0.64\n",
      "Remainder = 0.28\n",
      "Remainder = 0.56\n",
      "Remainder = 0.1200000000000001\n",
      "Remainder = 0.2400000000000002\n",
      "Remainder = 0.4800000000000004\n",
      "Remainder = 0.9600000000000009\n",
      "Remainder = 0.9200000000000017\n",
      "Remainder = 0.8400000000000034\n",
      "Remainder = 0.6800000000000068\n",
      "Remainder = 0.36000000000001364\n",
      "Remainder = 0.7200000000000273\n",
      "Remainder = 0.44000000000005457\n",
      "Remainder = 0.8800000000001091\n",
      "Remainder = 0.7600000000002183\n",
      "Remainder = 0.5200000000004366\n",
      "Remainder = 0.040000000000873115\n",
      "Remainder = 0.08000000000174623\n",
      "Remainder = 0.16000000000349246\n",
      "Remainder = 0.3200000000069849\n",
      "Remainder = 0.6400000000139698\n",
      "Remainder = 0.2800000000279397\n",
      "Remainder = 0.5600000000558794\n",
      "Remainder = 0.12000000011175871\n",
      "Remainder = 0.24000000022351742\n",
      "Remainder = 0.48000000044703484\n",
      "Remainder = 0.9600000008940697\n",
      "Remainder = 0.9200000017881393\n",
      "Remainder = 0.8400000035762787\n",
      "Remainder = 0.6800000071525574\n",
      "Remainder = 0.36000001430511475\n",
      "Remainder = 0.7200000286102295\n",
      "Remainder = 0.440000057220459\n",
      "Remainder = 0.880000114440918\n",
      "Remainder = 0.7600002288818359\n",
      "Remainder = 0.5200004577636719\n",
      "Remainder = 0.04000091552734375\n",
      "Remainder = 0.0800018310546875\n",
      "Remainder = 0.160003662109375\n",
      "Remainder = 0.32000732421875\n",
      "Remainder = 0.6400146484375\n",
      "Remainder = 0.280029296875\n",
      "Remainder = 0.56005859375\n",
      "Remainder = 0.1201171875\n",
      "Remainder = 0.240234375\n",
      "Remainder = 0.48046875\n",
      "Remainder = 0.9609375\n",
      "Remainder = 0.921875\n",
      "Remainder = 0.84375\n",
      "Remainder = 0.6875\n",
      "Remainder = 0.375\n",
      "Remainder = 0.75\n",
      "Remainder = 0.5\n",
      "The binary representation of the decimal 0.01 is .00000010100011110101110000101000111101011100001010001111011\n"
     ]
    }
   ],
   "source": [
    "convertDecimalToBinary()\n",
    "# the decimal 0.125 can be stored perfectly\n",
    "# the decimal 0.01 cannot"
   ]
  },
  {
   "cell_type": "code",
   "execution_count": 25,
   "metadata": {},
   "outputs": [],
   "source": [
    "# note: since floating point decimal variables are approximations, comparing equality \\\n",
    "# isn't as safe as comparing the absolute values of the differences to a small error value (ex: 0.00000000001)"
   ]
  },
  {
   "cell_type": "markdown",
   "metadata": {},
   "source": [
    "Newton-Raphson Approximation for Polynomials:\n",
    "\n",
    "if given a guess $$g$$ for x in the polynomial $$f(x) = ax^n + bx^{n-1} + ... $$\n",
    "\n",
    "a better approximation $$g' = g - f(g)/f'(g)$$ exists\n",
    "\n",
    "shoutout to https://stackoverflow.com/questions/13208286/how-to-write-latex-in-ipython-notebook"
   ]
  },
  {
   "cell_type": "code",
   "execution_count": 28,
   "metadata": {},
   "outputs": [
    {
     "name": "stdout",
     "output_type": "stream",
     "text": [
      "numGuesses = 4\n",
      "Square root of 24.0 is about 4.8989887432139305\n"
     ]
    }
   ],
   "source": [
    "# Newton-Raphson method for approximating square roots\n",
    "epsilon = 0.01\n",
    "y = 24.0\n",
    "guess = y/2.0\n",
    "numGuesses = 0\n",
    "\n",
    "while abs(guess**2 - y) >= epsilon:\n",
    "    numGuesses += 1\n",
    "    guess = guess - (((guess**2) - y)/(2*guess))\n",
    "print('numGuesses = ' + str(numGuesses))\n",
    "print('Square root of ' + str (y) + ' is about ' + str(guess))\n",
    "\n",
    "# takes only 4 guesses versus the 12 of binary search"
   ]
  },
  {
   "cell_type": "code",
   "execution_count": null,
   "metadata": {},
   "outputs": [],
   "source": []
  }
 ],
 "metadata": {
  "kernelspec": {
   "display_name": "Python 3",
   "language": "python",
   "name": "python3"
  },
  "language_info": {
   "codemirror_mode": {
    "name": "ipython",
    "version": 3
   },
   "file_extension": ".py",
   "mimetype": "text/x-python",
   "name": "python",
   "nbconvert_exporter": "python",
   "pygments_lexer": "ipython3",
   "version": "3.6.5"
  }
 },
 "nbformat": 4,
 "nbformat_minor": 2
}
