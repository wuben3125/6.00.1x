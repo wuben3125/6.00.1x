{
 "cells": [
  {
   "cell_type": "code",
   "execution_count": 4,
   "metadata": {},
   "outputs": [],
   "source": [
    "# I guess I'm using Jupyter notebooks to follow along with examples,\n",
    "# and spyder only for larger projects?\n",
    "# Also, I feel like this is where having two screens comes in handy..."
   ]
  },
  {
   "cell_type": "code",
   "execution_count": 5,
   "metadata": {},
   "outputs": [],
   "source": [
    "# Exercise 2 part 4:\n",
    "\n",
    "str1 = 'hello'\n",
    "str2 =','\n",
    "str3 = 'world'\n",
    "str4 = str1 + str3"
   ]
  },
  {
   "cell_type": "code",
   "execution_count": 6,
   "metadata": {},
   "outputs": [
    {
     "data": {
      "text/plain": [
       "'worl'"
      ]
     },
     "execution_count": 6,
     "metadata": {},
     "output_type": "execute_result"
    }
   ],
   "source": [
    "str3[:-1]"
   ]
  },
  {
   "cell_type": "code",
   "execution_count": 7,
   "metadata": {},
   "outputs": [
    {
     "data": {
      "text/plain": [
       "'dlrowolleh'"
      ]
     },
     "execution_count": 7,
     "metadata": {},
     "output_type": "execute_result"
    }
   ],
   "source": [
    "str4[::-1]"
   ]
  },
  {
   "cell_type": "code",
   "execution_count": 8,
   "metadata": {},
   "outputs": [],
   "source": [
    "# Video: Control Flow\n",
    "\n",
    "# Grimson's version of pseudocode:\n",
    "\n",
    "# if <exit right>\n",
    "#     <set background to woods_background>\n",
    "#     if <exit right>\n",
    "#         <set background to woods_background>\n",
    "#         ..."
   ]
  },
  {
   "cell_type": "code",
   "execution_count": 9,
   "metadata": {},
   "outputs": [],
   "source": [
    "# Exercise: vara varb\n",
    "# if type(varA) == str"
   ]
  },
  {
   "cell_type": "code",
   "execution_count": 10,
   "metadata": {},
   "outputs": [
    {
     "ename": "SyntaxError",
     "evalue": "invalid syntax (<ipython-input-10-f34353fc64ee>, line 1)",
     "output_type": "error",
     "traceback": [
      "\u001b[1;36m  File \u001b[1;32m\"<ipython-input-10-f34353fc64ee>\"\u001b[1;36m, line \u001b[1;32m1\u001b[0m\n\u001b[1;33m    print([1:3])\u001b[0m\n\u001b[1;37m            ^\u001b[0m\n\u001b[1;31mSyntaxError\u001b[0m\u001b[1;31m:\u001b[0m invalid syntax\n"
     ]
    }
   ],
   "source": [
    "print([1:3])"
   ]
  },
  {
   "cell_type": "code",
   "execution_count": 12,
   "metadata": {},
   "outputs": [
    {
     "name": "stdout",
     "output_type": "stream",
     "text": [
      "2\n",
      "4\n",
      "6\n",
      "8\n",
      "10\n"
     ]
    }
   ],
   "source": [
    "# Exercise: for\n",
    "for i in range(11)[2:11:2]:\n",
    "    \n",
    "    # better way is range(2, 11, 2)\n",
    "    \n",
    "    print(i)"
   ]
  },
  {
   "cell_type": "code",
   "execution_count": 17,
   "metadata": {},
   "outputs": [
    {
     "name": "stdout",
     "output_type": "stream",
     "text": [
      "Hello!\n",
      "10\n",
      "8\n",
      "6\n",
      "4\n",
      "2\n",
      "0\n"
     ]
    }
   ],
   "source": [
    "print(\"Hello!\")\n",
    "\n",
    "for i in range(11)[-1::-2]:\n",
    "    \n",
    "    # better way is range(10, -1, -2)\n",
    "    \n",
    "    print(i)"
   ]
  },
  {
   "cell_type": "code",
   "execution_count": 18,
   "metadata": {},
   "outputs": [
    {
     "name": "stdout",
     "output_type": "stream",
     "text": [
      "Hello!\n",
      "10\n",
      "8\n",
      "6\n",
      "4\n",
      "2\n",
      "0\n"
     ]
    }
   ],
   "source": [
    "print(\"Hello!\")\n",
    "\n",
    "for i in range(10, -1, -2):\n",
    "    \n",
    "    # better way is range(10, -1, -2)\n",
    "    \n",
    "    print(i)"
   ]
  },
  {
   "cell_type": "code",
   "execution_count": 16,
   "metadata": {},
   "outputs": [
    {
     "name": "stdout",
     "output_type": "stream",
     "text": [
      "21\n"
     ]
    }
   ],
   "source": [
    "total = 0\n",
    "\n",
    "end = 6\n",
    "\n",
    "for i in range(1+end):\n",
    "    total += i\n",
    "   \n",
    "print(total)\n"
   ]
  },
  {
   "cell_type": "code",
   "execution_count": 19,
   "metadata": {},
   "outputs": [
    {
     "name": "stdout",
     "output_type": "stream",
     "text": [
      "0.0\n",
      "1.0\n",
      "2.0\n",
      "3.0\n",
      "4.0\n"
     ]
    }
   ],
   "source": [
    "# Exercise 5: \n",
    "\n",
    "# protocol - run the code for the questions you get wrong?\n",
    "\n",
    "divisor = 2\n",
    "for num in range(0, 10, 2):\n",
    "    print(num/divisor) # yields floats instead of integers"
   ]
  },
  {
   "cell_type": "code",
   "execution_count": 20,
   "metadata": {},
   "outputs": [
    {
     "name": "stdout",
     "output_type": "stream",
     "text": [
      "0\n",
      "Foo!\n",
      "4\n",
      "8\n",
      "12\n",
      "16\n",
      "Foo!\n"
     ]
    }
   ],
   "source": [
    "for variable in range(20):\n",
    "    if variable % 4 == 0:\n",
    "        print(variable)\n",
    "    if variable % 16 == 0:\n",
    "        print('Foo!')"
   ]
  },
  {
   "cell_type": "code",
   "execution_count": 21,
   "metadata": {},
   "outputs": [
    {
     "name": "stdout",
     "output_type": "stream",
     "text": [
      "M\n",
      "numVowels is: 11\n",
      "numCons is: -25\n"
     ]
    }
   ],
   "source": [
    "# Exercise 6:\n",
    "school = 'Massachusetts Institute of Technology'\n",
    "numVowels = 0\n",
    "numCons = 0\n",
    "\n",
    "for char in school:\n",
    "    if char == 'a' or char == 'e' or char == 'i' \\\n",
    "    or char == 'o' or char == 'u':\n",
    "        numVowels += 1\n",
    "    elif char == 'o' or char == 'M':\n",
    "        print(char)\n",
    "    else:\n",
    "        numCons -= 1\n",
    "\n",
    "print('numVowels is: ' + str(numVowels))\n",
    "print('numCons is: ' + str(numCons))"
   ]
  },
  {
   "cell_type": "code",
   "execution_count": 24,
   "metadata": {},
   "outputs": [
    {
     "name": "stdout",
     "output_type": "stream",
     "text": [
      "10\n",
      "0\n",
      "10\n",
      "1\n",
      "10\n",
      "2\n"
     ]
    }
   ],
   "source": [
    "# Just a test\n",
    "for i in range(3):\n",
    "    for j in range(10,15):\n",
    "        if j == 11:\n",
    "            break\n",
    "        print(j)\n",
    "    print(i)\n",
    "        \n",
    "# a break statement will break out of ALL loops that it is nested in       "
   ]
  },
  {
   "cell_type": "code",
   "execution_count": null,
   "metadata": {},
   "outputs": [],
   "source": []
  }
 ],
 "metadata": {
  "kernelspec": {
   "display_name": "Python 3",
   "language": "python",
   "name": "python3"
  },
  "language_info": {
   "codemirror_mode": {
    "name": "ipython",
    "version": 3
   },
   "file_extension": ".py",
   "mimetype": "text/x-python",
   "name": "python",
   "nbconvert_exporter": "python",
   "pygments_lexer": "ipython3",
   "version": "3.6.5"
  }
 },
 "nbformat": 4,
 "nbformat_minor": 2
}
