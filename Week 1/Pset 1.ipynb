{
 "cells": [
  {
   "cell_type": "code",
   "execution_count": 1,
   "metadata": {},
   "outputs": [],
   "source": [
    "# First Problem set for 6.00.1x "
   ]
  },
  {
   "cell_type": "code",
   "execution_count": 2,
   "metadata": {},
   "outputs": [],
   "source": [
    "# Problem 1\n",
    "\n",
    "def countVowels(lowerCaseStr):\n",
    "    '''counts the number of vowels (excluding y)\n",
    "    in a given lowercase string'''\n",
    "    \n",
    "    vowelCount = 0\n",
    "    validVowel = ['a','e','i','o','u']\n",
    "    for char in lowerCaseStr:\n",
    "        if char in validVowel:\n",
    "            vowelCount += 1\n",
    "            \n",
    "    print(f\"There are {vowelCount} vowels\")\n",
    "\n",
    "    return vowelCount"
   ]
  },
  {
   "cell_type": "code",
   "execution_count": 3,
   "metadata": {},
   "outputs": [
    {
     "name": "stdout",
     "output_type": "stream",
     "text": [
      "There are 5 vowels\n"
     ]
    },
    {
     "data": {
      "text/plain": [
       "5"
      ]
     },
     "execution_count": 3,
     "metadata": {},
     "output_type": "execute_result"
    }
   ],
   "source": [
    "s = 'azcbobobegghakl'\n",
    "countVowels(s)"
   ]
  },
  {
   "cell_type": "code",
   "execution_count": 37,
   "metadata": {},
   "outputs": [],
   "source": [
    "# Problem 2\n",
    "\n",
    "def bobCount(lowerCaseStr): # I had to change the order from countBobs to bobCount because of the capitalization and camelCase - maybe underscores are useful here...?\n",
    "    '''counts the number of occurrences of bob\n",
    "    in a given lowercase string (ex: 'bobob' would yield 2)'''\n",
    "    \n",
    "    i = 0\n",
    "    bobCount = 0\n",
    "    \n",
    "    while i < len(lowerCaseStr):\n",
    "        if lowerCaseStr[i] == 'b':\n",
    "            if lowerCaseStr[i + 1] == 'o':\n",
    "                if lowerCaseStr[i + 2] == 'b':\n",
    "                    bobCount += 1\n",
    "        \n",
    "        i += 1\n",
    "    \n",
    "    print(f\"Number of times bob occurs is: {bobCount}\")\n",
    "    \n",
    "    #return bobCount # is it a good habit to always return things at the end?\n",
    "    \n",
    "    \n",
    "    "
   ]
  },
  {
   "cell_type": "code",
   "execution_count": 38,
   "metadata": {},
   "outputs": [
    {
     "name": "stdout",
     "output_type": "stream",
     "text": [
      "Number of times bob occurs is: 2\n"
     ]
    }
   ],
   "source": [
    "# testing\n",
    "bobCount('azcbobobegghakl')"
   ]
  },
  {
   "cell_type": "code",
   "execution_count": 5,
   "metadata": {},
   "outputs": [
    {
     "name": "stdout",
     "output_type": "stream",
     "text": [
      "There is a bob\n"
     ]
    }
   ],
   "source": [
    "# Testing\n",
    "\n",
    "s = 'bobbob'\n",
    "if 'bob' in s:\n",
    "    print (\"There is a bob\")"
   ]
  },
  {
   "cell_type": "code",
   "execution_count": 6,
   "metadata": {},
   "outputs": [
    {
     "ename": "SyntaxError",
     "evalue": "can't assign to literal (<ipython-input-6-64df0c1e8a85>, line 1)",
     "output_type": "error",
     "traceback": [
      "\u001b[1;36m  File \u001b[1;32m\"<ipython-input-6-64df0c1e8a85>\"\u001b[1;36m, line \u001b[1;32m1\u001b[0m\n\u001b[1;33m    for 'bob' in s:\u001b[0m\n\u001b[1;37m       ^\u001b[0m\n\u001b[1;31mSyntaxError\u001b[0m\u001b[1;31m:\u001b[0m can't assign to literal\n"
     ]
    }
   ],
   "source": [
    "for 'bob' in s:\n",
    "    print (\"Here is a bob\")"
   ]
  },
  {
   "cell_type": "code",
   "execution_count": 31,
   "metadata": {},
   "outputs": [],
   "source": [
    "# Problem 3\n",
    "\n",
    "def getAlphabeticSubstrings(lowerCaseStr):\n",
    "    '''returns the substring with the most consecutive\n",
    "    characters in increasing alphabetical order'''\n",
    "    startIndex = 0\n",
    "    endIndex = 0\n",
    "    lagIndex = 0\n",
    "    \n",
    "    alphabeticStrList = []\n",
    "    \n",
    "    # compiles a list of alphabetic substrings\n",
    "    while endIndex <= len(lowerCaseStr):\n",
    "        if endIndex == len(lowerCaseStr): # special case in which end of string is reached\n",
    "            alphabeticStrList.append(lowerCaseStr[startIndex : endIndex])\n",
    "        \n",
    "        else:\n",
    "            if lowerCaseStr[lagIndex] > lowerCaseStr[endIndex]: # if there is a break in the alphabetic order\n",
    "                alphabeticStrList.append(lowerCaseStr[startIndex : endIndex])\n",
    "                startIndex = endIndex # resets the start index for a new substring\n",
    "            \n",
    "        lagIndex = endIndex \n",
    "        endIndex += 1 # now lagIndex and endIndex will correspond to two consecutive characters\n",
    "        \n",
    "    return alphabeticStrList\n",
    "        \n",
    "        \n",
    "    \n",
    "        \n",
    "    \n",
    "            \n",
    "        \n",
    "    "
   ]
  },
  {
   "cell_type": "code",
   "execution_count": 32,
   "metadata": {},
   "outputs": [
    {
     "data": {
      "text/plain": [
       "['abc', 'bcd']"
      ]
     },
     "execution_count": 32,
     "metadata": {},
     "output_type": "execute_result"
    }
   ],
   "source": [
    "# testing\n",
    "\n",
    "getAlphabeticSubstrings('abcbcd')"
   ]
  },
  {
   "cell_type": "code",
   "execution_count": 17,
   "metadata": {},
   "outputs": [
    {
     "name": "stdout",
     "output_type": "stream",
     "text": [
      "bcd\n",
      "bcd\n"
     ]
    }
   ],
   "source": [
    "# testing \n",
    "print(max(['bcd','abc']))\n",
    "print(max(['abc','bcd']))\n",
    "# the problem wants me to return the first string if multiple strings have the same max length, so this \\\n",
    "# won't work, although it's much more efficient..."
   ]
  },
  {
   "cell_type": "code",
   "execution_count": 33,
   "metadata": {},
   "outputs": [],
   "source": [
    "def getLongestStr(strList):\n",
    "    maxLength = 0\n",
    "    maxStrIndex = 0\n",
    "    count = 0\n",
    "    \n",
    "    while count < len(strList):\n",
    "        if len(strList[count]) > maxLength:\n",
    "            maxStrIndex = count\n",
    "            maxLength = len(strList[count])\n",
    "        \n",
    "        # ooh don't want any infinite runtimes, do we?\n",
    "        count += 1\n",
    "    \n",
    "    return strList[maxStrIndex]"
   ]
  },
  {
   "cell_type": "code",
   "execution_count": 34,
   "metadata": {},
   "outputs": [
    {
     "data": {
      "text/plain": [
       "'asdfghj'"
      ]
     },
     "execution_count": 34,
     "metadata": {},
     "output_type": "execute_result"
    }
   ],
   "source": [
    "# testing\n",
    "getLongestStr(['abc','asdfghj','dfdfdf','afafaff'])"
   ]
  },
  {
   "cell_type": "code",
   "execution_count": 35,
   "metadata": {},
   "outputs": [],
   "source": [
    "# Final answer for problem 3\n",
    "\n",
    "def getLongestAlphabeticSubstring(lowerCaseStr):\n",
    "    '''finds a list of alphabetically ordered substrings, then\n",
    "    return the first substring with the longest length'''\n",
    "    strList = getAlphabeticSubstrings(lowerCaseStr)\n",
    "    \n",
    "    longestSubstring = getLongestStr(strList)\n",
    "    \n",
    "    print(\"Longest string in alphabetical order is:\", longestSubstring)\n",
    "    \n",
    "    return longestSubstring"
   ]
  },
  {
   "cell_type": "code",
   "execution_count": 36,
   "metadata": {},
   "outputs": [
    {
     "name": "stdout",
     "output_type": "stream",
     "text": [
      "Longest string in alphabetical order is: beggh\n"
     ]
    },
    {
     "data": {
      "text/plain": [
       "'beggh'"
      ]
     },
     "execution_count": 36,
     "metadata": {},
     "output_type": "execute_result"
    }
   ],
   "source": [
    "getLongestAlphabeticSubstring('azcbobobegghakl')"
   ]
  },
  {
   "cell_type": "code",
   "execution_count": null,
   "metadata": {},
   "outputs": [],
   "source": [
    "m"
   ]
  }
 ],
 "metadata": {
  "kernelspec": {
   "display_name": "Python 3",
   "language": "python",
   "name": "python3"
  },
  "language_info": {
   "codemirror_mode": {
    "name": "ipython",
    "version": 3
   },
   "file_extension": ".py",
   "mimetype": "text/x-python",
   "name": "python",
   "nbconvert_exporter": "python",
   "pygments_lexer": "ipython3",
   "version": "3.6.5"
  }
 },
 "nbformat": 4,
 "nbformat_minor": 2
}
