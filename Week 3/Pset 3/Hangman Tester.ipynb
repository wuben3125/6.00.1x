{
 "cells": [
  {
   "cell_type": "code",
   "execution_count": 2,
   "metadata": {},
   "outputs": [
    {
     "name": "stdout",
     "output_type": "stream",
     "text": [
      "Loading word list from file...\n",
      "   55909 words loaded.\n"
     ]
    }
   ],
   "source": [
    "from ps3_hangman import *"
   ]
  },
  {
   "cell_type": "code",
   "execution_count": 3,
   "metadata": {},
   "outputs": [
    {
     "name": "stdout",
     "output_type": "stream",
     "text": [
      "Hi, welcome to Hangman. If you ever want to leave, type 'stop' into the prompt.\n",
      "\n",
      "- Round: 1\n",
      "Word: _ _ _ _ _ _ _ _ _ _ \n",
      "Your guessed letters: \n",
      "Number of mistakes left: 8\n",
      "Guess a letter: stop\n",
      "Okay, see ya then.\n"
     ]
    }
   ],
   "source": [
    "hangman()"
   ]
  },
  {
   "cell_type": "code",
   "execution_count": 4,
   "metadata": {},
   "outputs": [
    {
     "name": "stdout",
     "output_type": "stream",
     "text": [
      "Hi, welcome to Hangman. If you ever want to leave, type 'stop' into the prompt.\n",
      "\n",
      "- Round: 1\n",
      "Word: _ _ _ _ _ _ _ _ _ _ \n",
      "Your guessed letters: \n",
      "Number of mistakes left: 8\n",
      "Guess a letter: i\n",
      "Nice! You got a letter!\n",
      "\n",
      "- Round: 2\n",
      "Word: _ _ i _ i _ i _ _ _ \n",
      "Your guessed letters: i\n",
      "Number of mistakes left: 8\n",
      "Guess a letter: d\n",
      "Yikes. You guessed wrong...\n",
      "\n",
      "- Round: 3\n",
      "Word: _ _ i _ i _ i _ _ _ \n",
      "Your guessed letters: di\n",
      "Number of mistakes left: 7\n",
      "Guess a letter: a\n",
      "Yikes. You guessed wrong...\n",
      "\n",
      "- Round: 4\n",
      "Word: _ _ i _ i _ i _ _ _ \n",
      "Your guessed letters: adi\n",
      "Number of mistakes left: 6\n",
      "Guess a letter: e\n",
      "Nice! You got a letter!\n",
      "\n",
      "- Round: 5\n",
      "Word: _ _ i _ i _ i _ e _ \n",
      "Your guessed letters: adei\n",
      "Number of mistakes left: 6\n",
      "Guess a letter: s\n",
      "Nice! You got a letter!\n",
      "\n",
      "- Round: 6\n",
      "Word: _ _ i _ i _ i _ e s \n",
      "Your guessed letters: adeis\n",
      "Number of mistakes left: 6\n",
      "Guess a letter: t\n",
      "Nice! You got a letter!\n",
      "\n",
      "- Round: 7\n",
      "Word: _ _ i _ i t i _ e s \n",
      "Your guessed letters: adeist\n",
      "Number of mistakes left: 6\n",
      "Guess a letter: n\n",
      "Yikes. You guessed wrong...\n",
      "\n",
      "- Round: 8\n",
      "Word: _ _ i _ i t i _ e s \n",
      "Your guessed letters: adeinst\n",
      "Number of mistakes left: 5\n",
      "Guess a letter: p\n",
      "Nice! You got a letter!\n",
      "\n",
      "- Round: 9\n",
      "Word: p _ i _ i t i _ e s \n",
      "Your guessed letters: adeinpst\n",
      "Number of mistakes left: 5\n",
      "Guess a letter: r\n",
      "Nice! You got a letter!\n",
      "\n",
      "- Round: 10\n",
      "Word: p r i _ i t i _ e s \n",
      "Your guessed letters: adeinprst\n",
      "Number of mistakes left: 5\n",
      "Guess a letter: o\n",
      "Yikes. You guessed wrong...\n",
      "\n",
      "- Round: 11\n",
      "Word: p r i _ i t i _ e s \n",
      "Your guessed letters: adeinoprst\n",
      "Number of mistakes left: 4\n",
      "Guess a letter: c\n",
      "Yikes. You guessed wrong...\n",
      "\n",
      "- Round: 12\n",
      "Word: p r i _ i t i _ e s \n",
      "Your guessed letters: acdeinoprst\n",
      "Number of mistakes left: 3\n",
      "Guess a letter: m\n",
      "Nice! You got a letter!\n",
      "\n",
      "- Round: 13\n",
      "Word: p r i m i t i _ e s \n",
      "Your guessed letters: acdeimnoprst\n",
      "Number of mistakes left: 3\n",
      "Guess a letter: v\n",
      "Nice! You got a letter!\n",
      "You won!\n",
      "Word: primitives\n",
      "Your guessed letters: acdeimnoprstv\n"
     ]
    }
   ],
   "source": [
    "hangman()"
   ]
  },
  {
   "cell_type": "code",
   "execution_count": null,
   "metadata": {},
   "outputs": [],
   "source": []
  }
 ],
 "metadata": {
  "kernelspec": {
   "display_name": "Python 3",
   "language": "python",
   "name": "python3"
  },
  "language_info": {
   "codemirror_mode": {
    "name": "ipython",
    "version": 3
   },
   "file_extension": ".py",
   "mimetype": "text/x-python",
   "name": "python",
   "nbconvert_exporter": "python",
   "pygments_lexer": "ipython3",
   "version": "3.6.5"
  }
 },
 "nbformat": 4,
 "nbformat_minor": 2
}
