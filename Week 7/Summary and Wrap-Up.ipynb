{
 "cells": [
  {
   "cell_type": "code",
   "execution_count": 1,
   "metadata": {},
   "outputs": [],
   "source": [
    "# yippee\n",
    "\n",
    "# I feel like looking back at my table of contents and parsing through my files of code examples\n",
    "# would better achieve the purpose of this video.\n",
    "\n",
    "# here's the link if you want to view it anyway:\n",
    "    # https://www.youtube.com/watch?time_continue=65&v=LoavRsbDSeQ\n",
    "    \n",
    "# next steps:\n",
    "    # 6002x\n",
    "    # a machine learning course?\n",
    "    # quantum information science?"
   ]
  },
  {
   "cell_type": "code",
   "execution_count": null,
   "metadata": {},
   "outputs": [],
   "source": [
    "# Uncertainties:\n",
    "    # 'abstraction': hiding/suppressing everything but the necessary interface components for a piece of code"
   ]
  }
 ],
 "metadata": {
  "kernelspec": {
   "display_name": "Python 3",
   "language": "python",
   "name": "python3"
  },
  "language_info": {
   "codemirror_mode": {
    "name": "ipython",
    "version": 3
   },
   "file_extension": ".py",
   "mimetype": "text/x-python",
   "name": "python",
   "nbconvert_exporter": "python",
   "pygments_lexer": "ipython3",
   "version": "3.6.5"
  }
 },
 "nbformat": 4,
 "nbformat_minor": 2
}
